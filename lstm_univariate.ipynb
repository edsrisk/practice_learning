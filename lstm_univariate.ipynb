{
  "nbformat": 4,
  "nbformat_minor": 0,
  "metadata": {
    "colab": {
      "name": "lstm_univariate.ipynb",
      "provenance": [],
      "collapsed_sections": [],
      "include_colab_link": true
    },
    "kernelspec": {
      "name": "python3",
      "display_name": "Python 3"
    },
    "language_info": {
      "name": "python"
    }
  },
  "cells": [
    {
      "cell_type": "markdown",
      "metadata": {
        "id": "view-in-github",
        "colab_type": "text"
      },
      "source": [
        "<a href=\"https://colab.research.google.com/github/edsrisk/practice_learning/blob/main/lstm_univariate.ipynb\" target=\"_parent\"><img src=\"https://colab.research.google.com/assets/colab-badge.svg\" alt=\"Open In Colab\"/></a>"
      ]
    },
    {
      "cell_type": "markdown",
      "metadata": {
        "id": "JBbkFdSkrF36"
      },
      "source": [
        "LSTM Model for Univariate Time Series Forecasting - \n",
        "Problem Statement: Univariate Time Series Forecasting - \n",
        "eg: sales = [110, 125, 133,146, 158, 172, 187, 196, 210] -\n",
        "Predict sales data using the previous three days of sales data, i.e. predict t +1 from t, t-1, and t-2\n",
        "\n",
        "credit to: Krish Naik\n",
        "https://www.youtube.com/watch?v=UbvkhuqVqUI"
      ]
    },
    {
      "cell_type": "code",
      "metadata": {
        "id": "wxQa5XBCrD-G"
      },
      "source": [
        "# Import libraries and dependencies\n",
        "import numpy as np\n",
        "from tensorflow.keras.models import Sequential\n",
        "from tensorflow.keras.layers import LSTM, Dense, Flatten\n"
      ],
      "execution_count": null,
      "outputs": []
    },
    {
      "cell_type": "code",
      "metadata": {
        "colab": {
          "base_uri": "https://localhost:8080/"
        },
        "id": "lw6b1-Gfrpr_",
        "outputId": "92edf33e-4a30-4fee-acd8-cacac0ad5520"
      },
      "source": [
        "# Preparing independent and dependent features\n",
        "def prepare_data(timeseries_data, n_features):\n",
        "  X, y = [], []\n",
        "  for i in range(len(timeseries_data)): # i = 0 to 9\n",
        "    # find the end of this pattern\n",
        "    end_ix = i + n_features # end_ix(0) = 0 + 3 = 3; this is the 4th element in the array; the model looks at the first three elements and estimates the 4th element; looks at 2nd to 4th, then estimates 5th, and so on \n",
        "    print('i = ', i, '; end_ix =', end_ix)\n",
        "    # check if we are beyond the sequence\n",
        "    if end_ix > len(timeseries_data) - 1: # Interrupt process once we hit the last element in the array \n",
        "      break\n",
        "    # gather input and output parts of the pattern\n",
        "    seq_x, seq_y = timeseries_data[i: end_ix], timeseries_data[end_ix]\n",
        "    X.append(seq_x)\n",
        "    y.append(seq_y)\n",
        "  return np.array(X), np.array(y)\n",
        "\n",
        "# define input sequence\n",
        "timeseries_data = [110, 125, 133,146, 158, 172, 187, 196, 210]\n",
        "\n",
        "# choose a number of time steps (lags)\n",
        "n_features = 3\n",
        "n_steps = 3\n",
        "\n",
        "# split into samples\n",
        "X, y = prepare_data(timeseries_data, n_features)\n",
        "X, y = prepare_data(timeseries_data, n_steps)\n"
      ],
      "execution_count": null,
      "outputs": [
        {
          "output_type": "stream",
          "text": [
            "i =  0 ; end_ix = 3\n",
            "i =  1 ; end_ix = 4\n",
            "i =  2 ; end_ix = 5\n",
            "i =  3 ; end_ix = 6\n",
            "i =  4 ; end_ix = 7\n",
            "i =  5 ; end_ix = 8\n",
            "i =  6 ; end_ix = 9\n",
            "i =  0 ; end_ix = 3\n",
            "i =  1 ; end_ix = 4\n",
            "i =  2 ; end_ix = 5\n",
            "i =  3 ; end_ix = 6\n",
            "i =  4 ; end_ix = 7\n",
            "i =  5 ; end_ix = 8\n",
            "i =  6 ; end_ix = 9\n"
          ],
          "name": "stdout"
        }
      ]
    },
    {
      "cell_type": "code",
      "metadata": {
        "colab": {
          "base_uri": "https://localhost:8080/"
        },
        "id": "nSVFF8n7aQux",
        "outputId": "fa6067b6-2626-4574-9860-27de633522dc"
      },
      "source": [
        "# print X input variables\n",
        "print(X)"
      ],
      "execution_count": null,
      "outputs": [
        {
          "output_type": "stream",
          "text": [
            "[[110 125 133]\n",
            " [125 133 146]\n",
            " [133 146 158]\n",
            " [146 158 172]\n",
            " [158 172 187]\n",
            " [172 187 196]]\n"
          ],
          "name": "stdout"
        }
      ]
    },
    {
      "cell_type": "code",
      "metadata": {
        "colab": {
          "base_uri": "https://localhost:8080/"
        },
        "id": "xP8uMlkxaand",
        "outputId": "549738b3-79fc-4c46-9c36-5174ac04e13c"
      },
      "source": [
        "# print y output variables\n",
        "print(y)"
      ],
      "execution_count": null,
      "outputs": [
        {
          "output_type": "stream",
          "text": [
            "[146 158 172 187 196 210]\n"
          ],
          "name": "stdout"
        }
      ]
    },
    {
      "cell_type": "code",
      "metadata": {
        "colab": {
          "base_uri": "https://localhost:8080/"
        },
        "id": "0JKUxRC_aesn",
        "outputId": "975b9705-3982-4f51-969a-73c1cd8eafa5"
      },
      "source": [
        "len(timeseries_data)"
      ],
      "execution_count": null,
      "outputs": [
        {
          "output_type": "execute_result",
          "data": {
            "text/plain": [
              "9"
            ]
          },
          "metadata": {
            "tags": []
          },
          "execution_count": 5
        }
      ]
    },
    {
      "cell_type": "code",
      "metadata": {
        "colab": {
          "base_uri": "https://localhost:8080/"
        },
        "id": "s9YvCU8CbLfV",
        "outputId": "69cd0fa9-2ad7-4063-e1fd-38776aa9007b"
      },
      "source": [
        "range(len(timeseries_data))"
      ],
      "execution_count": null,
      "outputs": [
        {
          "output_type": "execute_result",
          "data": {
            "text/plain": [
              "range(0, 9)"
            ]
          },
          "metadata": {
            "tags": []
          },
          "execution_count": 6
        }
      ]
    },
    {
      "cell_type": "code",
      "metadata": {
        "colab": {
          "base_uri": "https://localhost:8080/"
        },
        "id": "fe3FCBBFbUze",
        "outputId": "896aef27-caeb-45f5-dd75-099089e5c4c6"
      },
      "source": [
        "X.shape"
      ],
      "execution_count": null,
      "outputs": [
        {
          "output_type": "execute_result",
          "data": {
            "text/plain": [
              "(6, 3)"
            ]
          },
          "metadata": {
            "tags": []
          },
          "execution_count": 7
        }
      ]
    },
    {
      "cell_type": "code",
      "metadata": {
        "colab": {
          "base_uri": "https://localhost:8080/"
        },
        "id": "zqoplWwSzIjH",
        "outputId": "adfcf2d0-06f7-4fc6-91d0-b5127bbcff01"
      },
      "source": [
        "y.shape"
      ],
      "execution_count": null,
      "outputs": [
        {
          "output_type": "execute_result",
          "data": {
            "text/plain": [
              "(6,)"
            ]
          },
          "metadata": {
            "tags": []
          },
          "execution_count": 8
        }
      ]
    },
    {
      "cell_type": "code",
      "metadata": {
        "id": "4dd4wL3izJn-"
      },
      "source": [
        "# Convert/reshape from 2D - rows, columns (6,3) to 3D - rows, columns, features (6,3,1); this conversion will allow us to use n_features as an assitional input into the LSTM\n",
        "n_features = 1\n",
        "X.shape[0] # no. of rows\n",
        "X.shape[1] # no. of columns\n",
        "X = X.reshape((X.shape[0], X.shape[1], n_features))"
      ],
      "execution_count": null,
      "outputs": []
    },
    {
      "cell_type": "code",
      "metadata": {
        "colab": {
          "base_uri": "https://localhost:8080/"
        },
        "id": "90QMf8X50YNd",
        "outputId": "15f5f0fe-abf0-4724-b689-a4d4eafdcdc0"
      },
      "source": [
        "print(X) # Notice that X was originall '[[]]' and reshaped to '[[[]]]'"
      ],
      "execution_count": null,
      "outputs": [
        {
          "output_type": "stream",
          "text": [
            "[[[110]\n",
            "  [125]\n",
            "  [133]]\n",
            "\n",
            " [[125]\n",
            "  [133]\n",
            "  [146]]\n",
            "\n",
            " [[133]\n",
            "  [146]\n",
            "  [158]]\n",
            "\n",
            " [[146]\n",
            "  [158]\n",
            "  [172]]\n",
            "\n",
            " [[158]\n",
            "  [172]\n",
            "  [187]]\n",
            "\n",
            " [[172]\n",
            "  [187]\n",
            "  [196]]]\n"
          ],
          "name": "stdout"
        }
      ]
    },
    {
      "cell_type": "code",
      "metadata": {
        "colab": {
          "base_uri": "https://localhost:8080/"
        },
        "id": "9q3vQ15r0c9l",
        "outputId": "d8c939bc-b00f-4d2a-ad81-41e79aa105a3"
      },
      "source": [
        "X.shape"
      ],
      "execution_count": null,
      "outputs": [
        {
          "output_type": "execute_result",
          "data": {
            "text/plain": [
              "(6, 3, 1)"
            ]
          },
          "metadata": {
            "tags": []
          },
          "execution_count": 11
        }
      ]
    },
    {
      "cell_type": "markdown",
      "metadata": {
        "id": "6eg5GZM7Bfc7"
      },
      "source": [
        "Building the LSTM Model"
      ]
    },
    {
      "cell_type": "code",
      "metadata": {
        "colab": {
          "base_uri": "https://localhost:8080/"
        },
        "id": "PKjE5yunBaj8",
        "outputId": "13d707cf-9268-402d-e343-8881a55362ea"
      },
      "source": [
        "# Define the model\n",
        "model = Sequential()\n",
        "model.add(LSTM(50, activation='relu', return_sequences=True, input_shape=(n_steps, n_features)))\n",
        "model.add(LSTM(50, activation='relu'))\n",
        "model.add(Dense(1)) # output layer, one output\n",
        "model.compile(optimizer='adam', loss='mse') # mean square error\n",
        "\n",
        "# fit model\n",
        "model.fit(X, y, epochs=300, verbose=0) # verbose = 1 prints out the epochs, 0 does not print"
      ],
      "execution_count": null,
      "outputs": [
        {
          "output_type": "execute_result",
          "data": {
            "text/plain": [
              "<tensorflow.python.keras.callbacks.History at 0x7f1ddd7033d0>"
            ]
          },
          "metadata": {
            "tags": []
          },
          "execution_count": 12
        }
      ]
    },
    {
      "cell_type": "markdown",
      "metadata": {
        "id": "ngIGVaDmFMYS"
      },
      "source": [
        "Predicting the next 10 output data and overlay the historical data"
      ]
    },
    {
      "cell_type": "code",
      "metadata": {
        "colab": {
          "base_uri": "https://localhost:8080/"
        },
        "id": "GVBIwhTgFFEi",
        "outputId": "38df8ed4-de52-4124-aac0-17a62996cd0c"
      },
      "source": [
        "\n",
        "# demonstrate prediction for next 10 days\n",
        "x_input = np.array([187, 196, 210])\n",
        "temp_input=list(x_input)\n",
        "lst_output=[]\n",
        "i=0\n",
        "while(i<10):\n",
        "    \n",
        "    if(len(temp_input)>3):\n",
        "        x_input=np.array(temp_input[1:])\n",
        "        print(\"{} day input {}\".format(i,x_input))\n",
        "        #print(x_input)\n",
        "        x_input = x_input.reshape((1, n_steps, n_features))\n",
        "        #print(x_input)\n",
        "        yhat = model.predict(x_input, verbose=0)\n",
        "        print(\"{} day output {}\".format(i,yhat))\n",
        "        temp_input.append(yhat[0][0])\n",
        "        temp_input=temp_input[1:]\n",
        "        #print(temp_input)\n",
        "        lst_output.append(yhat[0][0])\n",
        "        i=i+1\n",
        "    else:\n",
        "        x_input = x_input.reshape((1, n_steps, n_features))\n",
        "        yhat = model.predict(x_input, verbose=0)\n",
        "        print(yhat[0])\n",
        "        temp_input.append(yhat[0][0])\n",
        "        lst_output.append(yhat[0][0])\n",
        "        i=i+1\n",
        "    \n",
        "\n",
        "print(lst_output)"
      ],
      "execution_count": null,
      "outputs": [
        {
          "output_type": "stream",
          "text": [
            "[224.67345]\n",
            "1 day input [196.         210.         224.67344666]\n",
            "1 day output [[236.18416]]\n",
            "2 day input [210.         224.67344666 236.18415833]\n",
            "2 day output [[250.44221]]\n",
            "3 day input [224.67345 236.18416 250.44221]\n",
            "3 day output [[264.77585]]\n",
            "4 day input [236.18416 250.44221 264.77585]\n",
            "4 day output [[278.1715]]\n",
            "5 day input [250.44221 264.77585 278.1715 ]\n",
            "5 day output [[293.1142]]\n",
            "6 day input [264.77585 278.1715  293.1142 ]\n",
            "6 day output [[308.1717]]\n",
            "7 day input [278.1715 293.1142 308.1717]\n",
            "7 day output [[323.26038]]\n",
            "8 day input [293.1142  308.1717  323.26038]\n",
            "8 day output [[339.3534]]\n",
            "9 day input [308.1717  323.26038 339.3534 ]\n",
            "9 day output [[355.76907]]\n",
            "[224.67345, 236.18416, 250.44221, 264.77585, 278.1715, 293.1142, 308.1717, 323.26038, 339.3534, 355.76907]\n"
          ],
          "name": "stdout"
        }
      ]
    },
    {
      "cell_type": "code",
      "metadata": {
        "colab": {
          "base_uri": "https://localhost:8080/"
        },
        "id": "Na_hpJ5RLVMP",
        "outputId": "6520ce19-f180-4f81-839d-1112cc46a06b"
      },
      "source": [
        "print(lst_output)"
      ],
      "execution_count": null,
      "outputs": [
        {
          "output_type": "stream",
          "text": [
            "[225.89087, 237.81557, 253.27771, 269.24695, 283.86545, 300.90897, 318.21094, 335.537, 354.61847, 374.1502]\n"
          ],
          "name": "stdout"
        }
      ]
    },
    {
      "cell_type": "code",
      "metadata": {
        "colab": {
          "base_uri": "https://localhost:8080/"
        },
        "id": "DIFdx9uq3RpK",
        "outputId": "ca4c7886-f026-48ed-ccbf-ada3e560652e"
      },
      "source": [
        "\n",
        "timeseries_data"
      ],
      "execution_count": 64,
      "outputs": [
        {
          "output_type": "execute_result",
          "data": {
            "text/plain": [
              "[110, 125, 133, 146, 158, 172, 187, 196, 210]"
            ]
          },
          "metadata": {
            "tags": []
          },
          "execution_count": 64
        }
      ]
    },
    {
      "cell_type": "markdown",
      "metadata": {
        "id": "kssnQfxfFHmN"
      },
      "source": [
        ""
      ]
    },
    {
      "cell_type": "code",
      "metadata": {
        "colab": {
          "base_uri": "https://localhost:8080/"
        },
        "id": "qIXbSWpZ3ZLD",
        "outputId": "413a8884-c7c1-4f00-8e35-40b30a1db2fa"
      },
      "source": [
        "\n",
        "len(timeseries_data)"
      ],
      "execution_count": 65,
      "outputs": [
        {
          "output_type": "execute_result",
          "data": {
            "text/plain": [
              "9"
            ]
          },
          "metadata": {
            "tags": []
          },
          "execution_count": 65
        }
      ]
    },
    {
      "cell_type": "markdown",
      "metadata": {
        "id": "N6E-gnfi3fBC"
      },
      "source": [
        ""
      ]
    },
    {
      "cell_type": "code",
      "metadata": {
        "id": "rsr97Cy13aCq"
      },
      "source": [
        "# Data Visualization\n",
        "import matplotlib.pyplot as plt"
      ],
      "execution_count": 66,
      "outputs": []
    },
    {
      "cell_type": "code",
      "metadata": {
        "id": "sKLmsi_V3tF-"
      },
      "source": [
        "new_day = np.arange(1, 10)\n",
        "predicted_sale = np.arange(10, 20)"
      ],
      "execution_count": 70,
      "outputs": []
    },
    {
      "cell_type": "code",
      "metadata": {
        "colab": {
          "base_uri": "https://localhost:8080/",
          "height": 282
        },
        "id": "MfJB18Tt4YrR",
        "outputId": "2f157f41-b0a3-4280-ff31-e4012e720050"
      },
      "source": [
        "plt.plot(new_day, timeseries_data)\n",
        "plt.plot(predicted_sale, lst_output)"
      ],
      "execution_count": 71,
      "outputs": [
        {
          "output_type": "execute_result",
          "data": {
            "text/plain": [
              "[<matplotlib.lines.Line2D at 0x7fc89aacdbd0>]"
            ]
          },
          "metadata": {
            "tags": []
          },
          "execution_count": 71
        },
        {
          "output_type": "display_data",
          "data": {
            "image/png": "[encoded data removed]",
            "text/plain": [
              "<Figure size 432x288 with 1 Axes>"
            ]
          },
          "metadata": {
            "tags": [],
            "needs_background": "light"
          }
        }
      ]
    }
  ]
}